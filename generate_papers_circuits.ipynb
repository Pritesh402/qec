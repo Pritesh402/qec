{
 "cells": [
  {
   "cell_type": "markdown",
   "metadata": {},
   "source": [
    "Generates the circuits used for the main results in the paper. These are already generated and stored in circuits/SD and circuits/SI however they can be regenerated here (and are placed in circuits/supplementary_circuits/example_circuits)"
   ]
  },
  {
   "cell_type": "code",
   "execution_count": 13,
   "metadata": {},
   "outputs": [
    {
     "data": {
      "text/plain": [
       "<module 'circuit_creator' from '/Users/priteshthakur/Documents/FRI/Compare the Pair/compare_the_pair-main/my_work/the_function/circuit_creator.py'>"
      ]
     },
     "execution_count": 13,
     "metadata": {},
     "output_type": "execute_result"
    }
   ],
   "source": [
    "import sinter\n",
    "import stim\n",
    "import numpy as np\n",
    "\n",
    "import os\n",
    "import sys\n",
    "\n",
    "import shutil\n",
    "import subprocess\n",
    "\n",
    "sys.path.insert(0, 'functions') \n",
    "import circuit_creator as oscant\n",
    "import morefuncs as morefuncs\n",
    "\n",
    "# Update with any changes to these files:\n",
    "from importlib import reload\n",
    "reload(morefuncs)\n",
    "reload(oscant)"
   ]
  },
  {
   "cell_type": "code",
   "execution_count": null,
   "metadata": {},
   "outputs": [
    {
     "ename": "ValueError",
     "evalue": "Unrecognised task: unrotated_memory_y",
     "output_type": "error",
     "traceback": [
      "\u001b[0;31m---------------------------------------------------------------------------\u001b[0m",
      "\u001b[0;31mValueError\u001b[0m                                Traceback (most recent call last)",
      "Cell \u001b[0;32mIn[14], line 52\u001b[0m\n\u001b[1;32m     37\u001b[0m \u001b[38;5;28;01mfor\u001b[39;00m p \u001b[38;5;129;01min\u001b[39;00m p_values:\n\u001b[1;32m     38\u001b[0m     \u001b[38;5;66;03m# if ro == 'unro':\u001b[39;00m\n\u001b[1;32m     39\u001b[0m     \u001b[38;5;66;03m#     if d > 13 and p < 0.0007:\u001b[39;00m\n\u001b[0;32m   (...)\u001b[0m\n\u001b[1;32m     47\u001b[0m     \u001b[38;5;66;03m#     if d > 18 and p < 0.001:\u001b[39;00m\n\u001b[1;32m     48\u001b[0m     \u001b[38;5;66;03m#         continue\u001b[39;00m\n\u001b[1;32m     51\u001b[0m     \u001b[38;5;28;01mfor\u001b[39;00m b \u001b[38;5;129;01min\u001b[39;00m \u001b[38;5;124m'\u001b[39m\u001b[38;5;124myz\u001b[39m\u001b[38;5;124m'\u001b[39m:\n\u001b[0;32m---> 52\u001b[0m         thecircuit \u001b[38;5;241m=\u001b[39m \u001b[43moscant\u001b[49m\u001b[38;5;241;43m.\u001b[39;49m\u001b[43mgenerate_circuit\u001b[49m\u001b[43m(\u001b[49m\n\u001b[1;32m     53\u001b[0m \u001b[43m            \u001b[49m\u001b[38;5;124;43mf\u001b[39;49m\u001b[38;5;124;43m\"\u001b[39;49m\u001b[38;5;124;43msurface_code:\u001b[39;49m\u001b[38;5;132;43;01m{\u001b[39;49;00m\u001b[43mro\u001b[49m\u001b[38;5;132;43;01m}\u001b[39;49;00m\u001b[38;5;124;43mtated_memory_\u001b[39;49m\u001b[38;5;132;43;01m{\u001b[39;49;00m\u001b[43mb\u001b[49m\u001b[38;5;132;43;01m}\u001b[39;49;00m\u001b[38;5;124;43m\"\u001b[39;49m\u001b[43m,\u001b[49m\n\u001b[1;32m     54\u001b[0m \u001b[43m            \u001b[49m\u001b[43mrounds\u001b[49m\u001b[38;5;241;43m=\u001b[39;49m\u001b[38;5;241;43m3\u001b[39;49m\u001b[38;5;241;43m*\u001b[39;49m\u001b[43md\u001b[49m\u001b[43m,\u001b[49m\u001b[43m \u001b[49m\n\u001b[1;32m     55\u001b[0m \u001b[43m            \u001b[49m\u001b[43mdistance\u001b[49m\u001b[38;5;241;43m=\u001b[39;49m\u001b[43md\u001b[49m\u001b[43m,\u001b[49m\u001b[43m \u001b[49m\n\u001b[1;32m     56\u001b[0m \u001b[43m            \u001b[49m\u001b[43mafter_clifford_depolarization\u001b[49m\u001b[38;5;241;43m=\u001b[39;49m\u001b[43mp\u001b[49m\u001b[43m,\u001b[49m\n\u001b[1;32m     57\u001b[0m \u001b[43m            \u001b[49m\u001b[43mafter_reset_flip_probability\u001b[49m\u001b[38;5;241;43m=\u001b[39;49m\u001b[43mp\u001b[49m\u001b[43m,\u001b[49m\n\u001b[1;32m     58\u001b[0m \u001b[43m            \u001b[49m\u001b[43mbefore_measure_flip_probability\u001b[49m\u001b[38;5;241;43m=\u001b[39;49m\u001b[43mp\u001b[49m\u001b[43m,\u001b[49m\u001b[43m \u001b[49m\n\u001b[1;32m     59\u001b[0m \u001b[43m            \u001b[49m\u001b[38;5;66;43;03m# before_round_data_depolarization=p, # can be removed as is then implemented by adding idling errors function anyway\u001b[39;49;00m\n\u001b[1;32m     60\u001b[0m \u001b[43m            \u001b[49m\u001b[43mx_cnot_order\u001b[49m\u001b[43m \u001b[49m\u001b[38;5;241;43m=\u001b[39;49m\u001b[43m \u001b[49m\u001b[43my\u001b[49m\u001b[43m,\u001b[49m\n\u001b[1;32m     61\u001b[0m \u001b[43m            \u001b[49m\u001b[43mz_cnot_order\u001b[49m\u001b[43m \u001b[49m\u001b[38;5;241;43m=\u001b[39;49m\u001b[43m \u001b[49m\u001b[43mz\u001b[49m\u001b[43m,\u001b[49m\n\u001b[1;32m     62\u001b[0m \u001b[43m            \u001b[49m\u001b[43mexclude_other_basis_detectors\u001b[49m\u001b[43m \u001b[49m\u001b[38;5;241;43m=\u001b[39;49m\u001b[43m \u001b[49m\u001b[38;5;28;43;01mFalse\u001b[39;49;00m\u001b[43m,\u001b[49m\u001b[43m \u001b[49m\u001b[38;5;66;43;03m# no need to add their detections to the graph which will be given to PyMatching as it is not a correlated decoder (still perform the opposite basis' stabiliser measurements though)\u001b[39;49;00m\n\u001b[1;32m     63\u001b[0m \u001b[43m        \u001b[49m\u001b[43m)\u001b[49m\n\u001b[1;32m     65\u001b[0m         morefuncs\u001b[38;5;241m.\u001b[39madd_idling_errors_and_save_circuit(thecircuit, b, d, p, ro, y, z, directory) \u001b[38;5;66;03m# saves circuit in circuits/ZY (standard depolarising)\u001b[39;00m\n\u001b[1;32m     67\u001b[0m         \u001b[38;5;66;03m# # Optional: Generate SI (SI with CY gates) p_values model circuits too by adjusting error probs. of ZY circuits then saving a separate circuit:\u001b[39;00m\n\u001b[1;32m     68\u001b[0m \n\u001b[1;32m     69\u001b[0m         \u001b[38;5;66;03m# thecircuit = morefuncs.make_SI_circuit(b, d, p, ro, y, z, directory)\u001b[39;00m\n",
      "File \u001b[0;32m~/Documents/FRI/Compare the Pair/compare_the_pair-main/my_work/the_function/circuit_creator.py:488\u001b[0m, in \u001b[0;36mgenerate_circuit\u001b[0;34m(code_task, rounds, distance, x_distance, z_distance, after_clifford_depolarization, before_round_data_depolarization, before_measure_flip_probability, after_reset_flip_probability, exclude_other_basis_detectors, x_cnot_order, z_cnot_order)\u001b[0m\n\u001b[1;32m    474\u001b[0m \u001b[38;5;28;01mif\u001b[39;00m code_name \u001b[38;5;129;01min\u001b[39;00m [\u001b[38;5;124m\"\u001b[39m\u001b[38;5;124msurface_code\u001b[39m\u001b[38;5;124m\"\u001b[39m, \u001b[38;5;124m\"\u001b[39m\u001b[38;5;124mtoric_code\u001b[39m\u001b[38;5;124m\"\u001b[39m]:\n\u001b[1;32m    475\u001b[0m     params \u001b[38;5;241m=\u001b[39m CircuitGenParameters(\n\u001b[1;32m    476\u001b[0m         code_name\u001b[38;5;241m=\u001b[39mcode_name,\n\u001b[1;32m    477\u001b[0m         task\u001b[38;5;241m=\u001b[39mtask,\n\u001b[0;32m   (...)\u001b[0m\n\u001b[1;32m    486\u001b[0m         exclude_other_basis_detectors\u001b[38;5;241m=\u001b[39mexclude_other_basis_detectors,\n\u001b[1;32m    487\u001b[0m     )\n\u001b[0;32m--> 488\u001b[0m     \u001b[38;5;28;01mreturn\u001b[39;00m \u001b[43mgenerate_surface_or_toric_code_circuit_from_params\u001b[49m\u001b[43m(\u001b[49m\u001b[43mparams\u001b[49m\u001b[43m,\u001b[49m\u001b[43m \u001b[49m\u001b[43mx_cnot_order\u001b[49m\u001b[43m,\u001b[49m\u001b[43m \u001b[49m\u001b[43mz_cnot_order\u001b[49m\u001b[43m)\u001b[49m\n\u001b[1;32m    489\u001b[0m \u001b[38;5;28;01melse\u001b[39;00m:\n\u001b[1;32m    490\u001b[0m     \u001b[38;5;28;01mraise\u001b[39;00m \u001b[38;5;167;01mValueError\u001b[39;00m(\u001b[38;5;124mf\u001b[39m\u001b[38;5;124m\"\u001b[39m\u001b[38;5;124mCode name \u001b[39m\u001b[38;5;132;01m{\u001b[39;00mcode_name\u001b[38;5;132;01m}\u001b[39;00m\u001b[38;5;124m not recognised\u001b[39m\u001b[38;5;124m\"\u001b[39m)\n",
      "File \u001b[0;32m~/Documents/FRI/Compare the Pair/compare_the_pair-main/my_work/the_function/circuit_creator.py:444\u001b[0m, in \u001b[0;36mgenerate_surface_or_toric_code_circuit_from_params\u001b[0;34m(params, z_cnot_order, x_cnot_order)\u001b[0m\n\u001b[1;32m    436\u001b[0m     \u001b[38;5;28;01melif\u001b[39;00m params\u001b[38;5;241m.\u001b[39mtask \u001b[38;5;241m==\u001b[39m \u001b[38;5;124m\"\u001b[39m\u001b[38;5;124munrotated_memory_z\u001b[39m\u001b[38;5;124m\"\u001b[39m:\n\u001b[1;32m    437\u001b[0m         \u001b[38;5;28;01mreturn\u001b[39;00m _generate_unrotated_surface_or_toric_code_circuit(\n\u001b[1;32m    438\u001b[0m             params\u001b[38;5;241m=\u001b[39mparams,\n\u001b[1;32m    439\u001b[0m             is_memory_x\u001b[38;5;241m=\u001b[39m\u001b[38;5;28;01mFalse\u001b[39;00m,\n\u001b[1;32m    440\u001b[0m             is_toric\u001b[38;5;241m=\u001b[39m\u001b[38;5;28;01mTrue\u001b[39;00m,\n\u001b[1;32m    441\u001b[0m             x_cnot_order\u001b[38;5;241m=\u001b[39mx_cnot_order,\n\u001b[1;32m    442\u001b[0m             z_cnot_order\u001b[38;5;241m=\u001b[39mz_cnot_order)\n\u001b[0;32m--> 444\u001b[0m \u001b[38;5;28;01mraise\u001b[39;00m \u001b[38;5;167;01mValueError\u001b[39;00m(\u001b[38;5;124mf\u001b[39m\u001b[38;5;124m\"\u001b[39m\u001b[38;5;124mUnrecognised task: \u001b[39m\u001b[38;5;132;01m{\u001b[39;00mparams\u001b[38;5;241m.\u001b[39mtask\u001b[38;5;132;01m}\u001b[39;00m\u001b[38;5;124m\"\u001b[39m)\n",
      "\u001b[0;31mValueError\u001b[0m: Unrecognised task: unrotated_memory_y"
     ]
    }
   ],
   "source": [
    "reload(morefuncs)\n",
    "\n",
    "\n",
    "directory = \"circuits/\"\n",
    "\n",
    "# Delete existing circuits (so as not to simulate them)\n",
    "shutil.rmtree(f'{directory}/ZY/', ignore_errors=True)\n",
    "\n",
    "# Make directories to store new circuits:\n",
    "for path in ['ZY/y', 'ZY/z']:\n",
    "    os.makedirs(f'{directory}/{path}', exist_ok=True)\n",
    "\n",
    "\n",
    "# Generate circuits:\n",
    "\n",
    "# x = (...) and z = (...) below define the CNOT order for y and z type stabilisers. E.g. order 10231203 avoids hook errors in the rotated code and is a worst-case CNOT order for the unrotated code if doing memory Z experiments (worst-case taken to be most applicable to all states). \n",
    "\n",
    "# p_values = [0.0005,0.0007,0.001,0.0015,0.002,0.003,0.004,0.0049,0.005,0.0051,0.0052,0.0055,0.0056,0.0057,0.0058,0.006,0.007,0.008,0.009,0.01] \n",
    "\n",
    "p_values = [0.0005]\n",
    "\n",
    "# CNOT orders for y-type and z-type stabiliser measurements:\n",
    "y = (1,0,2,3) # y hook error in rotated code if last two y-type CNOT's are 12, 21, 03 or 30\n",
    "z = (1,2,0,3) # z hook error in rotated code if last two z-type CNOT's are 01, 10, 23 or 32\n",
    "\n",
    "for ro in ['unro','ro']:\n",
    "    \n",
    "    if ro == 'unro':\n",
    "        unro_CNOT_order = int(''.join(map(str, y + z)))\n",
    "        ds = range(2,6)\n",
    "\n",
    "    elif ro == 'ro':\n",
    "        ro_CNOT_order = int(''.join(map(str, y + z)))\n",
    "        ds = range(2,6)\n",
    "    \n",
    "    for d in ds:\n",
    "        for p in p_values:\n",
    "            # if ro == 'unro':\n",
    "            #     if d > 13 and p < 0.0007:\n",
    "            #         continue\n",
    "            #     if d > 15 and p < 0.001:\n",
    "            #         continue\n",
    "            \n",
    "            # if ro == 'ro':\n",
    "            #     if d > 17 and p < 0.0007:\n",
    "            #         continue\n",
    "            #     if d > 18 and p < 0.001:\n",
    "            #         continue\n",
    "\n",
    "            \n",
    "            for b in 'yz':\n",
    "                thecircuit = oscant.generate_circuit(\n",
    "                    f\"surface_code:{ro}tated_memory_{'x' if b == 'y' else 'z'}\",\n",
    "                    rounds=3*d, \n",
    "                    distance=d, \n",
    "                    after_clifford_depolarization=p,\n",
    "                    after_reset_flip_probability=p,\n",
    "                    before_measure_flip_probability=p, \n",
    "                    # before_round_data_depolarization=p, # can be removed as is then implemented by adding idling errors function anyway\n",
    "                    x_cnot_order = y,\n",
    "                    z_cnot_order = z,\n",
    "                    exclude_other_basis_detectors = False, # no need to add their detections to the graph which will be given to PyMatching as it is not a correlated decoder (still perform the opposite basis' stabiliser measurements though)\n",
    "                )\n",
    "\n",
    "                morefuncs.add_idling_errors_and_save_circuit(thecircuit, b, d, p, ro, y, z, directory) # saves circuit in circuits/ZY (standard depolarising)\n",
    "\n",
    "                # # Optional: Generate SI (SI with CY gates) p_values model circuits too by adjusting error probs. of ZY circuits then saving a separate circuit:\n",
    "\n",
    "                # thecircuit = morefuncs.make_SI_circuit(b, d, p, ro, y, z, directory)"
   ]
  },
  {
   "cell_type": "code",
   "execution_count": null,
   "metadata": {},
   "outputs": [],
   "source": []
  }
 ],
 "metadata": {
  "kernelspec": {
   "display_name": "Python 3",
   "language": "python",
   "name": "python3"
  },
  "language_info": {
   "codemirror_mode": {
    "name": "ipython",
    "version": 3
   },
   "file_extension": ".py",
   "mimetype": "text/x-python",
   "name": "python",
   "nbconvert_exporter": "python",
   "pygments_lexer": "ipython3",
   "version": "3.11.4"
  }
 },
 "nbformat": 4,
 "nbformat_minor": 4
}

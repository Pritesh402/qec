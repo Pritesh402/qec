{
 "cells": [
  {
   "cell_type": "markdown",
   "metadata": {},
   "source": [
    "This notebook can be used to generate the ZY surface code that we used for our research.\n",
    "This creates the generic template circuits with dummy probability values. I used these generic circuits and filled pre-calculated biased probability values through bash scripting."
   ]
  },
  {
   "cell_type": "code",
   "execution_count": 5,
   "metadata": {},
   "outputs": [
    {
     "data": {
      "text/plain": [
       "<module 'oscAntPritgencircuitv2' from '/Users/priteshthakur/Documents/FRI/qec/oscAntPritgencircuitv2.py'>"
      ]
     },
     "execution_count": 5,
     "metadata": {},
     "output_type": "execute_result"
    }
   ],
   "source": [
    "import os\n",
    "import sys\n",
    "\n",
    "import shutil\n",
    "\n",
    "sys.path.insert(0, 'functions') \n",
    "import oscAntPritgencircuitv2 as oscant\n",
    "import morefuncs as morefuncs\n",
    "\n",
    "# Update with any changes to these files:\n",
    "from importlib import reload\n",
    "reload(morefuncs)\n",
    "reload(oscant)"
   ]
  },
  {
   "cell_type": "code",
   "execution_count": null,
   "metadata": {},
   "outputs": [
    {
     "ename": "ValueError",
     "evalue": "Failed to open circuits/temp_circuit.stim",
     "output_type": "error",
     "traceback": [
      "\u001b[0;31m---------------------------------------------------------------------------\u001b[0m",
      "\u001b[0;31mValueError\u001b[0m                                Traceback (most recent call last)",
      "Cell \u001b[0;32mIn[6], line 51\u001b[0m\n\u001b[1;32m     38\u001b[0m \u001b[38;5;28;01mfor\u001b[39;00m b \u001b[38;5;129;01min\u001b[39;00m \u001b[38;5;124m'\u001b[39m\u001b[38;5;124myz\u001b[39m\u001b[38;5;124m'\u001b[39m:\n\u001b[1;32m     39\u001b[0m     thecircuit \u001b[38;5;241m=\u001b[39m oscant\u001b[38;5;241m.\u001b[39mgenerate_circuit(\n\u001b[1;32m     40\u001b[0m         \u001b[38;5;124mf\u001b[39m\u001b[38;5;124m\"\u001b[39m\u001b[38;5;124msurface_code:\u001b[39m\u001b[38;5;132;01m{\u001b[39;00mro\u001b[38;5;132;01m}\u001b[39;00m\u001b[38;5;124mtated_memory_\u001b[39m\u001b[38;5;132;01m{\u001b[39;00m\u001b[38;5;124m'\u001b[39m\u001b[38;5;124mx\u001b[39m\u001b[38;5;124m'\u001b[39m\u001b[38;5;250m \u001b[39m\u001b[38;5;28;01mif\u001b[39;00m\u001b[38;5;250m \u001b[39mb\u001b[38;5;250m \u001b[39m\u001b[38;5;241m==\u001b[39m\u001b[38;5;250m \u001b[39m\u001b[38;5;124m'\u001b[39m\u001b[38;5;124my\u001b[39m\u001b[38;5;124m'\u001b[39m\u001b[38;5;250m \u001b[39m\u001b[38;5;28;01melse\u001b[39;00m\u001b[38;5;250m \u001b[39m\u001b[38;5;124m'\u001b[39m\u001b[38;5;124mz\u001b[39m\u001b[38;5;124m'\u001b[39m\u001b[38;5;132;01m}\u001b[39;00m\u001b[38;5;124m\"\u001b[39m,\n\u001b[1;32m     41\u001b[0m         rounds\u001b[38;5;241m=\u001b[39m\u001b[38;5;241m3\u001b[39m\u001b[38;5;241m*\u001b[39md, \n\u001b[0;32m   (...)\u001b[0m\n\u001b[1;32m     48\u001b[0m         exclude_other_basis_detectors \u001b[38;5;241m=\u001b[39m \u001b[38;5;28;01mFalse\u001b[39;00m, \u001b[38;5;66;03m# include all stabiliser measurements | set it True if you want to exclude other basis measurements.\u001b[39;00m\n\u001b[1;32m     49\u001b[0m     )\n\u001b[0;32m---> 51\u001b[0m     \u001b[43mmorefuncs\u001b[49m\u001b[38;5;241;43m.\u001b[39;49m\u001b[43madd_idling_errors_and_save_circuit\u001b[49m\u001b[43m(\u001b[49m\u001b[43mthecircuit\u001b[49m\u001b[43m,\u001b[49m\u001b[43m \u001b[49m\u001b[43mb\u001b[49m\u001b[43m,\u001b[49m\u001b[43m \u001b[49m\u001b[43md\u001b[49m\u001b[43m,\u001b[49m\u001b[43m \u001b[49m\u001b[43mp\u001b[49m\u001b[43m,\u001b[49m\u001b[43m \u001b[49m\u001b[43mro\u001b[49m\u001b[43m,\u001b[49m\u001b[43m \u001b[49m\u001b[43my\u001b[49m\u001b[43m,\u001b[49m\u001b[43m \u001b[49m\u001b[43mz\u001b[49m\u001b[43m,\u001b[49m\u001b[43m \u001b[49m\u001b[43mdirectory\u001b[49m\u001b[43m)\u001b[49m\n",
      "File \u001b[0;32m~/Documents/FRI/qec/morefuncs.py:242\u001b[0m, in \u001b[0;36madd_idling_errors_and_save_circuit\u001b[0;34m(thecircuit, b, d, p, ro, x, z, directory)\u001b[0m\n\u001b[1;32m    239\u001b[0m \u001b[38;5;28;01mdef\u001b[39;00m \u001b[38;5;21madd_idling_errors_and_save_circuit\u001b[39m(thecircuit, b, d, p, ro, x, z, directory):\n\u001b[1;32m    240\u001b[0m     \u001b[38;5;66;03m# Add idling errors and save circuit:\u001b[39;00m\n\u001b[1;32m    241\u001b[0m     path \u001b[38;5;241m=\u001b[39m \u001b[38;5;124mf\u001b[39m\u001b[38;5;124m\"\u001b[39m\u001b[38;5;124mcircuits/temp_circuit.stim\u001b[39m\u001b[38;5;124m\"\u001b[39m  \u001b[38;5;66;03m# circuit without idling errors\u001b[39;00m\n\u001b[0;32m--> 242\u001b[0m     \u001b[43mthecircuit\u001b[49m\u001b[38;5;241;43m.\u001b[39;49m\u001b[43mto_file\u001b[49m\u001b[43m(\u001b[49m\u001b[43mpath\u001b[49m\u001b[43m)\u001b[49m  \u001b[38;5;66;03m# saves circuit as a file\u001b[39;00m\n\u001b[1;32m    244\u001b[0m     modified_file_contents \u001b[38;5;241m=\u001b[39m process_file(path, p)  \u001b[38;5;66;03m# adds some idling errors\u001b[39;00m\n\u001b[1;32m    246\u001b[0m     \u001b[38;5;66;03m# Save to ZY/y or ZY/z directory, and use b=y or b=z in filename\u001b[39;00m\n",
      "\u001b[0;31mValueError\u001b[0m: Failed to open circuits/temp_circuit.stim"
     ]
    }
   ],
   "source": [
    "reload(morefuncs)\n",
    "reload(oscant)\n",
    "\n",
    "\n",
    "directory = \"circuits/\"\n",
    "\n",
    "# Delete existing circuits (so as not to simulate them)\n",
    "shutil.rmtree(f'{directory}/ZY/', ignore_errors=True)\n",
    "\n",
    "# Make directories to store new circuits:\n",
    "for path in ['ZY/y', 'ZY/z']:\n",
    "    os.makedirs(f'{directory}/{path}', exist_ok=True)\n",
    "\n",
    "\n",
    "# Generate circuits:\n",
    "\n",
    "# x = (...) and z = (...) below define the CNOT order for y and z type stabilisers. E.g. order 10231203 avoids hook errors in the rotated code and is a worst-case CNOT order for the unrotated code if doing memory Z experiments (worst-case taken to be most applicable to all states). \n",
    "\n",
    "# I am setting this to only one p value to create generic template circuits. I used other bash scripts to generate the circuits using pre-calculated biased probability values.\n",
    "p_values = [0.0005]        \n",
    "\n",
    "# CNOT orders for y-type and z-type stabiliser measurements:\n",
    "y = (1,0,2,3)\n",
    "z = (1,2,0,3)\n",
    "\n",
    "for ro in ['unro','ro']:\n",
    "    \n",
    "    if ro == 'unro':\n",
    "        unro_CNOT_order = int(''.join(map(str, y + z)))\n",
    "        ds = range(2,6)\n",
    "\n",
    "    elif ro == 'ro':\n",
    "        ro_CNOT_order = int(''.join(map(str, y + z)))\n",
    "        ds = range(2,6)\n",
    "    \n",
    "    for d in ds:\n",
    "        for p in p_values:\n",
    "            for b in 'yz':\n",
    "                thecircuit = oscant.generate_circuit(\n",
    "                    f\"surface_code:{ro}tated_memory_{'x' if b == 'y' else 'z'}\",\n",
    "                    rounds=3*d, \n",
    "                    distance=d, \n",
    "                    after_clifford_depolarization=p,\n",
    "                    after_reset_flip_probability=p,\n",
    "                    before_measure_flip_probability=p, \n",
    "                    x_cnot_order = y,\n",
    "                    z_cnot_order = z,\n",
    "                    exclude_other_basis_detectors = False, # include all stabiliser measurements | set it True if you want to exclude other basis measurements.\n",
    "                )\n",
    "\n",
    "                morefuncs.add_idling_errors_and_save_circuit(thecircuit, b, d, p, ro, y, z, directory)"
   ]
  },
  {
   "cell_type": "code",
   "execution_count": null,
   "metadata": {},
   "outputs": [],
   "source": []
  }
 ],
 "metadata": {
  "kernelspec": {
   "display_name": "Python 3",
   "language": "python",
   "name": "python3"
  },
  "language_info": {
   "codemirror_mode": {
    "name": "ipython",
    "version": 3
   },
   "file_extension": ".py",
   "mimetype": "text/x-python",
   "name": "python",
   "nbconvert_exporter": "python",
   "pygments_lexer": "ipython3",
   "version": "3.11.4"
  }
 },
 "nbformat": 4,
 "nbformat_minor": 4
}
